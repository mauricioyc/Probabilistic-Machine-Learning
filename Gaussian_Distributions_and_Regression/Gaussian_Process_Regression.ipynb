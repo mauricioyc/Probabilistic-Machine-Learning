{
  "nbformat": 4,
  "nbformat_minor": 0,
  "metadata": {
    "kernelspec": {
      "display_name": "Python 3",
      "language": "python",
      "name": "python3"
    },
    "language_info": {
      "codemirror_mode": {
        "name": "ipython",
        "version": 3
      },
      "file_extension": ".py",
      "mimetype": "text/x-python",
      "name": "python",
      "nbconvert_exporter": "python",
      "pygments_lexer": "ipython3",
      "version": "3.7.7"
    },
    "colab": {
      "name": "Gaussian_Process_Regression.ipynb",
      "provenance": [],
      "include_colab_link": true
    }
  },
  "cells": [
    {
      "cell_type": "markdown",
      "metadata": {
        "id": "view-in-github",
        "colab_type": "text"
      },
      "source": [
        "<a href=\"https://colab.research.google.com/github/mauricioyc/Probabilistic-Machine-Learning/blob/master/Gaussian_Distributions_and_Regression/Gaussian_Process_Regression.ipynb\" target=\"_parent\"><img src=\"https://colab.research.google.com/assets/colab-badge.svg\" alt=\"Open In Colab\"/></a>"
      ]
    },
    {
      "cell_type": "code",
      "metadata": {
        "id": "kvyWX9VdjfAx"
      },
      "source": [
        "import numpy as np\n",
        "from numpy.random import randn, multivariate_normal\n",
        "from numpy.linalg import cholesky, solve\n",
        "from scipy.linalg import cho_solve, cho_factor\n",
        "import scipy.io\n",
        "import matplotlib.pyplot as plt\n",
        "\n",
        "%matplotlib inline\n",
        "%config InlineBackend.figure_format='retina'"
      ],
      "execution_count": 1,
      "outputs": []
    },
    {
      "cell_type": "code",
      "metadata": {
        "jupyter": {
          "source_hidden": true
        },
        "id": "zfOEaojLjfAz"
      },
      "source": [
        "# colors:\n",
        "dark = np.array([51.0, 51.0, 51.0]) / 255.0\n",
        "red = np.array([141.0, 45.0, 57.0]) / 255.0\n",
        "gold = np.array([174.0, 159.0, 109.0]) / 255.0\n",
        "gray = np.array([175.0, 179.0, 183.0]) / 255.0\n",
        "lred = np.array([1, 1, 1]) - 0.5 * (np.array([1, 1, 1]) - red)\n",
        "lgold = np.array([1, 1, 1]) - 0.5 * (np.array([1, 1, 1]) - gold)"
      ],
      "execution_count": 2,
      "outputs": []
    },
    {
      "cell_type": "markdown",
      "metadata": {
        "id": "9acX2eWCjfA0"
      },
      "source": [
        "Here's our old parametric code: First, the prior."
      ]
    },
    {
      "cell_type": "code",
      "metadata": {
        "id": "D6KdaYVxjfA0"
      },
      "source": [
        "# first, define the prior\n",
        "def phi(a):\n",
        "    ell = 1.0\n",
        "    return 3 * np.exp(-((a - np.linspace(-8, 8, 16).T) ** 2) / (ell ** 2) / 2.0)\n",
        "\n",
        "\n",
        "F = len(phi(0))  # number of features\n",
        "# set parameters of prior on the weights\n",
        "mu = np.zeros((F, 1))\n",
        "Sigma = np.eye(F)  # p(w)=N(mu,Sigma)"
      ],
      "execution_count": 3,
      "outputs": []
    },
    {
      "cell_type": "markdown",
      "metadata": {
        "id": "6pPIidHljfA0"
      },
      "source": [
        "Then regression."
      ]
    },
    {
      "cell_type": "code",
      "metadata": {
        "colab": {
          "base_uri": "https://localhost:8080/",
          "height": 425
        },
        "id": "hfBxqsLIjfA0",
        "outputId": "3f267cba-ee08-4b16-acfc-5609538d5e0f"
      },
      "source": [
        "# construct implied prior on f_x\n",
        "n = 100  # number of grid-points, for plotting\n",
        "x = np.linspace(-8, 8, n)[:, np.newaxis]  # reshape is needed for phi to work\n",
        "m = phi(x) @ mu\n",
        "kxx = phi(x) @ Sigma @ phi(x).T  # p(f_x)=N(m,k_xx)\n",
        "s = multivariate_normal(m.flatten(), kxx, size=5).T\n",
        "stdpi = np.sqrt(np.diag(kxx))[:, np.newaxis]  # marginal stddev, for plotting\n",
        "\n",
        "# then, load data from disk\n",
        "data = scipy.io.loadmat(\"nlindata.mat\")\n",
        "# import scipy.io; data = scipy.io.loadmat('nlindata.mat') # use this line to get the nonlinear data.\n",
        "X = data[\"X\"]  # inputs\n",
        "Y = data[\"Y\"]  # outputs\n",
        "sigma = float(data[\"sigma\"])  # measurement noise std-deviation\n",
        "N = len(X)  # number of data\n",
        "\n",
        "# evidence: p(Y) = N(Y;M,kXX + sigma**2 * no.eye(N))\n",
        "M = phi(X) @ mu\n",
        "kXX = phi(X) @ Sigma @ phi(X).T  # p(f_X) = N(M,k_XX)\n",
        "G = kXX + sigma ** 2 * np.eye(N)\n",
        "\n",
        "# now, do inference (i.e. construct the posterior)\n",
        "# the following in-place decomposition is the most expensive step at O(N^3):\n",
        "G = cho_factor(G)\n",
        "kxX = phi(x) @ Sigma @ phi(X).T  # Cov(f_x,f_X) = k_xX\n",
        "A = cho_solve(G, kxX.T).T  # pre-compute for re-use (but is only O(N^2))\n",
        "\n",
        "# # posterior p(f_x|Y) = N(f_x,mpost,vpost)\n",
        "mpost = m + A @ (Y - M)  # mean\n",
        "vpost = kxx - A @ kxX.T  # covariance\n",
        "spost = multivariate_normal(mpost.flatten(), vpost, size=5).T  # samples\n",
        "stdpo = np.sqrt(np.diag(vpost))[:, np.newaxis]  # marginal stddev, for plotting"
      ],
      "execution_count": 4,
      "outputs": [
        {
          "output_type": "error",
          "ename": "FileNotFoundError",
          "evalue": "ignored",
          "traceback": [
            "\u001b[0;31m---------------------------------------------------------------------------\u001b[0m",
            "\u001b[0;31mFileNotFoundError\u001b[0m                         Traceback (most recent call last)",
            "\u001b[0;32m/usr/local/lib/python3.7/dist-packages/scipy/io/matlab/mio.py\u001b[0m in \u001b[0;36m_open_file\u001b[0;34m(file_like, appendmat, mode)\u001b[0m\n\u001b[1;32m     38\u001b[0m     \u001b[0;32mtry\u001b[0m\u001b[0;34m:\u001b[0m\u001b[0;34m\u001b[0m\u001b[0;34m\u001b[0m\u001b[0m\n\u001b[0;32m---> 39\u001b[0;31m         \u001b[0;32mreturn\u001b[0m \u001b[0mopen\u001b[0m\u001b[0;34m(\u001b[0m\u001b[0mfile_like\u001b[0m\u001b[0;34m,\u001b[0m \u001b[0mmode\u001b[0m\u001b[0;34m)\u001b[0m\u001b[0;34m,\u001b[0m \u001b[0;32mTrue\u001b[0m\u001b[0;34m\u001b[0m\u001b[0;34m\u001b[0m\u001b[0m\n\u001b[0m\u001b[1;32m     40\u001b[0m     \u001b[0;32mexcept\u001b[0m \u001b[0mIOError\u001b[0m\u001b[0;34m:\u001b[0m\u001b[0;34m\u001b[0m\u001b[0;34m\u001b[0m\u001b[0m\n",
            "\u001b[0;31mFileNotFoundError\u001b[0m: [Errno 2] No such file or directory: 'nlindata.mat'",
            "\nDuring handling of the above exception, another exception occurred:\n",
            "\u001b[0;31mFileNotFoundError\u001b[0m                         Traceback (most recent call last)",
            "\u001b[0;32m<ipython-input-4-e55aeda84cf2>\u001b[0m in \u001b[0;36m<module>\u001b[0;34m()\u001b[0m\n\u001b[1;32m      8\u001b[0m \u001b[0;34m\u001b[0m\u001b[0m\n\u001b[1;32m      9\u001b[0m \u001b[0;31m# then, load data from disk\u001b[0m\u001b[0;34m\u001b[0m\u001b[0;34m\u001b[0m\u001b[0;34m\u001b[0m\u001b[0m\n\u001b[0;32m---> 10\u001b[0;31m \u001b[0mdata\u001b[0m \u001b[0;34m=\u001b[0m \u001b[0mscipy\u001b[0m\u001b[0;34m.\u001b[0m\u001b[0mio\u001b[0m\u001b[0;34m.\u001b[0m\u001b[0mloadmat\u001b[0m\u001b[0;34m(\u001b[0m\u001b[0;34m\"nlindata.mat\"\u001b[0m\u001b[0;34m)\u001b[0m\u001b[0;34m\u001b[0m\u001b[0;34m\u001b[0m\u001b[0m\n\u001b[0m\u001b[1;32m     11\u001b[0m \u001b[0;31m# import scipy.io; data = scipy.io.loadmat('nlindata.mat') # use this line to get the nonlinear data.\u001b[0m\u001b[0;34m\u001b[0m\u001b[0;34m\u001b[0m\u001b[0;34m\u001b[0m\u001b[0m\n\u001b[1;32m     12\u001b[0m \u001b[0mX\u001b[0m \u001b[0;34m=\u001b[0m \u001b[0mdata\u001b[0m\u001b[0;34m[\u001b[0m\u001b[0;34m\"X\"\u001b[0m\u001b[0;34m]\u001b[0m  \u001b[0;31m# inputs\u001b[0m\u001b[0;34m\u001b[0m\u001b[0;34m\u001b[0m\u001b[0m\n",
            "\u001b[0;32m/usr/local/lib/python3.7/dist-packages/scipy/io/matlab/mio.py\u001b[0m in \u001b[0;36mloadmat\u001b[0;34m(file_name, mdict, appendmat, **kwargs)\u001b[0m\n\u001b[1;32m    214\u001b[0m     \"\"\"\n\u001b[1;32m    215\u001b[0m     \u001b[0mvariable_names\u001b[0m \u001b[0;34m=\u001b[0m \u001b[0mkwargs\u001b[0m\u001b[0;34m.\u001b[0m\u001b[0mpop\u001b[0m\u001b[0;34m(\u001b[0m\u001b[0;34m'variable_names'\u001b[0m\u001b[0;34m,\u001b[0m \u001b[0;32mNone\u001b[0m\u001b[0;34m)\u001b[0m\u001b[0;34m\u001b[0m\u001b[0;34m\u001b[0m\u001b[0m\n\u001b[0;32m--> 216\u001b[0;31m     \u001b[0;32mwith\u001b[0m \u001b[0m_open_file_context\u001b[0m\u001b[0;34m(\u001b[0m\u001b[0mfile_name\u001b[0m\u001b[0;34m,\u001b[0m \u001b[0mappendmat\u001b[0m\u001b[0;34m)\u001b[0m \u001b[0;32mas\u001b[0m \u001b[0mf\u001b[0m\u001b[0;34m:\u001b[0m\u001b[0;34m\u001b[0m\u001b[0;34m\u001b[0m\u001b[0m\n\u001b[0m\u001b[1;32m    217\u001b[0m         \u001b[0mMR\u001b[0m\u001b[0;34m,\u001b[0m \u001b[0m_\u001b[0m \u001b[0;34m=\u001b[0m \u001b[0mmat_reader_factory\u001b[0m\u001b[0;34m(\u001b[0m\u001b[0mf\u001b[0m\u001b[0;34m,\u001b[0m \u001b[0;34m**\u001b[0m\u001b[0mkwargs\u001b[0m\u001b[0;34m)\u001b[0m\u001b[0;34m\u001b[0m\u001b[0;34m\u001b[0m\u001b[0m\n\u001b[1;32m    218\u001b[0m         \u001b[0mmatfile_dict\u001b[0m \u001b[0;34m=\u001b[0m \u001b[0mMR\u001b[0m\u001b[0;34m.\u001b[0m\u001b[0mget_variables\u001b[0m\u001b[0;34m(\u001b[0m\u001b[0mvariable_names\u001b[0m\u001b[0;34m)\u001b[0m\u001b[0;34m\u001b[0m\u001b[0;34m\u001b[0m\u001b[0m\n",
            "\u001b[0;32m/usr/lib/python3.7/contextlib.py\u001b[0m in \u001b[0;36m__enter__\u001b[0;34m(self)\u001b[0m\n\u001b[1;32m    110\u001b[0m         \u001b[0;32mdel\u001b[0m \u001b[0mself\u001b[0m\u001b[0;34m.\u001b[0m\u001b[0margs\u001b[0m\u001b[0;34m,\u001b[0m \u001b[0mself\u001b[0m\u001b[0;34m.\u001b[0m\u001b[0mkwds\u001b[0m\u001b[0;34m,\u001b[0m \u001b[0mself\u001b[0m\u001b[0;34m.\u001b[0m\u001b[0mfunc\u001b[0m\u001b[0;34m\u001b[0m\u001b[0;34m\u001b[0m\u001b[0m\n\u001b[1;32m    111\u001b[0m         \u001b[0;32mtry\u001b[0m\u001b[0;34m:\u001b[0m\u001b[0;34m\u001b[0m\u001b[0;34m\u001b[0m\u001b[0m\n\u001b[0;32m--> 112\u001b[0;31m             \u001b[0;32mreturn\u001b[0m \u001b[0mnext\u001b[0m\u001b[0;34m(\u001b[0m\u001b[0mself\u001b[0m\u001b[0;34m.\u001b[0m\u001b[0mgen\u001b[0m\u001b[0;34m)\u001b[0m\u001b[0;34m\u001b[0m\u001b[0;34m\u001b[0m\u001b[0m\n\u001b[0m\u001b[1;32m    113\u001b[0m         \u001b[0;32mexcept\u001b[0m \u001b[0mStopIteration\u001b[0m\u001b[0;34m:\u001b[0m\u001b[0;34m\u001b[0m\u001b[0;34m\u001b[0m\u001b[0m\n\u001b[1;32m    114\u001b[0m             \u001b[0;32mraise\u001b[0m \u001b[0mRuntimeError\u001b[0m\u001b[0;34m(\u001b[0m\u001b[0;34m\"generator didn't yield\"\u001b[0m\u001b[0;34m)\u001b[0m \u001b[0;32mfrom\u001b[0m \u001b[0;32mNone\u001b[0m\u001b[0;34m\u001b[0m\u001b[0;34m\u001b[0m\u001b[0m\n",
            "\u001b[0;32m/usr/local/lib/python3.7/dist-packages/scipy/io/matlab/mio.py\u001b[0m in \u001b[0;36m_open_file_context\u001b[0;34m(file_like, appendmat, mode)\u001b[0m\n\u001b[1;32m     17\u001b[0m \u001b[0;34m@\u001b[0m\u001b[0mcontextmanager\u001b[0m\u001b[0;34m\u001b[0m\u001b[0;34m\u001b[0m\u001b[0m\n\u001b[1;32m     18\u001b[0m \u001b[0;32mdef\u001b[0m \u001b[0m_open_file_context\u001b[0m\u001b[0;34m(\u001b[0m\u001b[0mfile_like\u001b[0m\u001b[0;34m,\u001b[0m \u001b[0mappendmat\u001b[0m\u001b[0;34m,\u001b[0m \u001b[0mmode\u001b[0m\u001b[0;34m=\u001b[0m\u001b[0;34m'rb'\u001b[0m\u001b[0;34m)\u001b[0m\u001b[0;34m:\u001b[0m\u001b[0;34m\u001b[0m\u001b[0;34m\u001b[0m\u001b[0m\n\u001b[0;32m---> 19\u001b[0;31m     \u001b[0mf\u001b[0m\u001b[0;34m,\u001b[0m \u001b[0mopened\u001b[0m \u001b[0;34m=\u001b[0m \u001b[0m_open_file\u001b[0m\u001b[0;34m(\u001b[0m\u001b[0mfile_like\u001b[0m\u001b[0;34m,\u001b[0m \u001b[0mappendmat\u001b[0m\u001b[0;34m,\u001b[0m \u001b[0mmode\u001b[0m\u001b[0;34m)\u001b[0m\u001b[0;34m\u001b[0m\u001b[0;34m\u001b[0m\u001b[0m\n\u001b[0m\u001b[1;32m     20\u001b[0m     \u001b[0;32myield\u001b[0m \u001b[0mf\u001b[0m\u001b[0;34m\u001b[0m\u001b[0;34m\u001b[0m\u001b[0m\n\u001b[1;32m     21\u001b[0m     \u001b[0;32mif\u001b[0m \u001b[0mopened\u001b[0m\u001b[0;34m:\u001b[0m\u001b[0;34m\u001b[0m\u001b[0;34m\u001b[0m\u001b[0m\n",
            "\u001b[0;32m/usr/local/lib/python3.7/dist-packages/scipy/io/matlab/mio.py\u001b[0m in \u001b[0;36m_open_file\u001b[0;34m(file_like, appendmat, mode)\u001b[0m\n\u001b[1;32m     43\u001b[0m             \u001b[0;32mif\u001b[0m \u001b[0mappendmat\u001b[0m \u001b[0;32mand\u001b[0m \u001b[0;32mnot\u001b[0m \u001b[0mfile_like\u001b[0m\u001b[0;34m.\u001b[0m\u001b[0mendswith\u001b[0m\u001b[0;34m(\u001b[0m\u001b[0;34m'.mat'\u001b[0m\u001b[0;34m)\u001b[0m\u001b[0;34m:\u001b[0m\u001b[0;34m\u001b[0m\u001b[0;34m\u001b[0m\u001b[0m\n\u001b[1;32m     44\u001b[0m                 \u001b[0mfile_like\u001b[0m \u001b[0;34m+=\u001b[0m \u001b[0;34m'.mat'\u001b[0m\u001b[0;34m\u001b[0m\u001b[0;34m\u001b[0m\u001b[0m\n\u001b[0;32m---> 45\u001b[0;31m             \u001b[0;32mreturn\u001b[0m \u001b[0mopen\u001b[0m\u001b[0;34m(\u001b[0m\u001b[0mfile_like\u001b[0m\u001b[0;34m,\u001b[0m \u001b[0mmode\u001b[0m\u001b[0;34m)\u001b[0m\u001b[0;34m,\u001b[0m \u001b[0;32mTrue\u001b[0m\u001b[0;34m\u001b[0m\u001b[0;34m\u001b[0m\u001b[0m\n\u001b[0m\u001b[1;32m     46\u001b[0m         \u001b[0;32melse\u001b[0m\u001b[0;34m:\u001b[0m\u001b[0;34m\u001b[0m\u001b[0;34m\u001b[0m\u001b[0m\n\u001b[1;32m     47\u001b[0m             \u001b[0;32mraise\u001b[0m \u001b[0mIOError\u001b[0m\u001b[0;34m(\u001b[0m\u001b[0;34m'Reader needs file name or open file-like object'\u001b[0m\u001b[0;34m)\u001b[0m\u001b[0;34m\u001b[0m\u001b[0;34m\u001b[0m\u001b[0m\n",
            "\u001b[0;31mFileNotFoundError\u001b[0m: [Errno 2] No such file or directory: 'nlindata.mat'"
          ]
        }
      ]
    },
    {
      "cell_type": "markdown",
      "metadata": {
        "id": "BlOOA3TSjfA1"
      },
      "source": [
        "### defining kernel & mean function explicitly from feature functions\n",
        "\n",
        "Instead, we can first wrap up the prior in a *kernel*:"
      ]
    },
    {
      "cell_type": "code",
      "metadata": {
        "id": "q3MpygVcjfA1"
      },
      "source": [
        "def m(x):\n",
        "    return phi(x) @ mu\n",
        "\n",
        "\n",
        "def k(a, b):\n",
        "    return phi(a) @ Sigma @ phi(b).T"
      ],
      "execution_count": null,
      "outputs": []
    },
    {
      "cell_type": "markdown",
      "metadata": {
        "id": "k8uLE2YwjfA1"
      },
      "source": [
        "And rewrite our code from above more succinctly. (Now as a simplistic function, so we can easily call it below\n",
        "\n",
        "*Note: No more explicit feature functions ($\\phi$) used below here!*"
      ]
    },
    {
      "cell_type": "code",
      "metadata": {
        "id": "izrz7JXYjfA2"
      },
      "source": [
        "def GP_reg(m, k):\n",
        "    out = {}\n",
        "    # construct implied prior on f_x\n",
        "    n = 100  # number of grid-points, for plotting\n",
        "    # reshape is needed for phi to work\n",
        "    x = np.linspace(-8, 8, n)[:, np.newaxis]\n",
        "    out[\"mx\"] = m(x)\n",
        "    out[\"kxx\"] = k(x, x)  # p(f_x)=N(m,k_xx)\n",
        "    out[\"s\"] = multivariate_normal(m(x).flatten(), k(x, x), size=5).T\n",
        "    # marginal stddev, for plotting\n",
        "    out[\"stdpi\"] = np.sqrt(np.diag(k(x, x)))[:, np.newaxis]\n",
        "\n",
        "    # then, load data from disk\n",
        "    data = scipy.io.loadmat(\"nlindata.mat\")\n",
        "    # import scipy.io; data = scipy.io.loadmat('nlindata.mat') # use this line to get the nonlinear data.\n",
        "    X = data[\"X\"]  # inputs\n",
        "    Y = data[\"Y\"]  # outputs\n",
        "    sigma = float(data[\"sigma\"])  # measurement noise std-deviation\n",
        "    N = len(X)  # number of data\n",
        "\n",
        "    # evidence: p(Y) = N(Y;M,kXX + sigma**2 * no.eye(N))\n",
        "    mX = m(X)\n",
        "    kXX = k(X, X)  # p(f_X) = N(M,k_XX)\n",
        "    G = kXX + sigma ** 2 * np.eye(N)\n",
        "\n",
        "    # now, do inference (i.e. construct the posterior)\n",
        "    # the following in-place decomposition is the most expensive step at O(N^3):\n",
        "    G = cho_factor(G)\n",
        "    kxX = k(x, X)  # Cov(f_x,f_X) = k_xX\n",
        "    A = cho_solve(G, kxX.T).T  # pre-compute for re-use (but is only O(N^2))\n",
        "\n",
        "    # # posterior p(f_x|Y) = N(f_x,mpost,vpost)\n",
        "    out[\"mpost\"] = m(x) + A @ (Y - mX)  # mean\n",
        "    out[\"vpost\"] = k(x, x) - A @ kxX.T  # covariance\n",
        "    out[\"spost\"] = multivariate_normal(\n",
        "        out[\"mpost\"].flatten(), out[\"vpost\"], size=5\n",
        "    ).T  # samples\n",
        "    # marginal stddev, for plotting\n",
        "    out[\"stdpo\"] = np.sqrt(np.diag(out[\"vpost\"]))[:, np.newaxis]\n",
        "\n",
        "    return out"
      ],
      "execution_count": 5,
      "outputs": []
    },
    {
      "cell_type": "markdown",
      "metadata": {
        "id": "LRc01WcijfA2"
      },
      "source": [
        "### plotting:"
      ]
    },
    {
      "cell_type": "code",
      "metadata": {
        "jupyter": {
          "source_hidden": true
        },
        "colab": {
          "base_uri": "https://localhost:8080/",
          "height": 809
        },
        "id": "L5o_EPGmjfA2",
        "outputId": "04af7ff0-61bf-4ef6-d539-447615a27c22"
      },
      "source": [
        "plt.rcParams[\"figure.figsize\"] = (25, 10)\n",
        "fig, ax = plt.subplots(1, 2)\n",
        "\n",
        "\n",
        "def GaussPDFscaled(y, m, s):  # shading\n",
        "    return np.exp(-0.5 * (y - m.T) ** 2 / (s ** 2).T)\n",
        "\n",
        "\n",
        "GPout = GP_reg(m, k)\n",
        "\n",
        "yy = np.linspace(-15, 20, 200).reshape([200, 1])\n",
        "P = GaussPDFscaled(yy, GPout[\"mx\"], stdpi)\n",
        "\n",
        "ax[0].imshow(\n",
        "    P, extent=[-8, 8, -15, 20], aspect=\"auto\", origin=\"lower\", cmap=\"Greys\", alpha=0.4\n",
        ")\n",
        "ax[0].plot(x, GPout[\"s\"], \":\", color=red)  # prior\n",
        "ax[0].plot(x, GPout[\"mx\"], \"-\", color=red)\n",
        "ax[0].plot(x, GPout[\"mx\"] + 2 * GPout[\"stdpi\"], \"-\", color=lred)\n",
        "ax[0].plot(x, GPout[\"mx\"] - 2 * GPout[\"stdpi\"], \"-\", color=lred)\n",
        "ax[0].set(xlim=[-8, 8], ylim=[-15, 20], title=\"prior\")\n",
        "\n",
        "Ppost = GaussPDFscaled(\n",
        "    yy, GPout[\"mpost\"], GPout[\"stdpo\"]\n",
        ")  # shading by local marginal pdf\n",
        "ax[1].imshow(\n",
        "    Ppost,\n",
        "    extent=[-8, 8, -15, 20],\n",
        "    aspect=\"auto\",\n",
        "    origin=\"lower\",\n",
        "    cmap=\"Greys\",\n",
        "    alpha=0.4,\n",
        ")\n",
        "ax[1].errorbar(X, Y, yerr=sigma, fmt=\"ok\")  # data\n",
        "ax[1].plot(x, GPout[\"mpost\"], \"-\", color=red)  # posterior mean\n",
        "ax[1].plot(\n",
        "    x, GPout[\"mpost\"] + 2 * GPout[\"stdpo\"], \"-\", color=lred\n",
        ")  # upper error bars on f\n",
        "ax[1].plot(\n",
        "    x, GPout[\"mpost\"] - 2 * GPout[\"stdpo\"], \"-\", color=lred\n",
        ")  # lower error bars on f\n",
        "\n",
        "ax[1].plot(\n",
        "    x, GPout[\"mpost\"] + 2 * GPout[\"stdpo\"] + 2 * sigma, \"-\", color=gold\n",
        ")  # predictive error bars (on y)\n",
        "ax[1].plot(x, GPout[\"mpost\"] - 2 * GPout[\"stdpo\"] - 2 * sigma, \"-\", color=gold)\n",
        "\n",
        "ax[1].plot(x, GPout[\"spost\"], \":\", color=red)  # samples\n",
        "ax[1].set(xlim=[-8, 8], ylim=[-15, 20], title=\"posterior\")\n",
        "\n",
        "plt.show()"
      ],
      "execution_count": 6,
      "outputs": [
        {
          "output_type": "error",
          "ename": "NameError",
          "evalue": "ignored",
          "traceback": [
            "\u001b[0;31m---------------------------------------------------------------------------\u001b[0m",
            "\u001b[0;31mNameError\u001b[0m                                 Traceback (most recent call last)",
            "\u001b[0;32m<ipython-input-6-de3bc6392687>\u001b[0m in \u001b[0;36m<module>\u001b[0;34m()\u001b[0m\n\u001b[1;32m      7\u001b[0m \u001b[0;34m\u001b[0m\u001b[0m\n\u001b[1;32m      8\u001b[0m \u001b[0;34m\u001b[0m\u001b[0m\n\u001b[0;32m----> 9\u001b[0;31m \u001b[0mGPout\u001b[0m \u001b[0;34m=\u001b[0m \u001b[0mGP_reg\u001b[0m\u001b[0;34m(\u001b[0m\u001b[0mm\u001b[0m\u001b[0;34m,\u001b[0m \u001b[0mk\u001b[0m\u001b[0;34m)\u001b[0m\u001b[0;34m\u001b[0m\u001b[0;34m\u001b[0m\u001b[0m\n\u001b[0m\u001b[1;32m     10\u001b[0m \u001b[0;34m\u001b[0m\u001b[0m\n\u001b[1;32m     11\u001b[0m \u001b[0myy\u001b[0m \u001b[0;34m=\u001b[0m \u001b[0mnp\u001b[0m\u001b[0;34m.\u001b[0m\u001b[0mlinspace\u001b[0m\u001b[0;34m(\u001b[0m\u001b[0;34m-\u001b[0m\u001b[0;36m15\u001b[0m\u001b[0;34m,\u001b[0m \u001b[0;36m20\u001b[0m\u001b[0;34m,\u001b[0m \u001b[0;36m200\u001b[0m\u001b[0;34m)\u001b[0m\u001b[0;34m.\u001b[0m\u001b[0mreshape\u001b[0m\u001b[0;34m(\u001b[0m\u001b[0;34m[\u001b[0m\u001b[0;36m200\u001b[0m\u001b[0;34m,\u001b[0m \u001b[0;36m1\u001b[0m\u001b[0;34m]\u001b[0m\u001b[0;34m)\u001b[0m\u001b[0;34m\u001b[0m\u001b[0;34m\u001b[0m\u001b[0m\n",
            "\u001b[0;31mNameError\u001b[0m: name 'k' is not defined"
          ]
        },
        {
          "output_type": "display_data",
          "data": {
            "image/png": "[encoded data removed]",
            "text/plain": [
              "<Figure size 1800x720 with 2 Axes>"
            ]
          },
          "metadata": {
            "tags": [],
            "image/png": {
              "width": 1440,
              "height": 578
            },
            "needs_background": "light"
          }
        }
      ]
    },
    {
      "cell_type": "markdown",
      "metadata": {
        "id": "gsDs6_d0jfA4"
      },
      "source": [
        "## nonparametric kernels"
      ]
    },
    {
      "cell_type": "markdown",
      "metadata": {
        "id": "JTsYBsvmjfA4"
      },
      "source": [
        "Abstract definition of kernel, and let's use a zero mean function for simplicity"
      ]
    },
    {
      "cell_type": "code",
      "metadata": {
        "id": "PJdUBwXgjfA4"
      },
      "source": [
        "def m(x):\n",
        "    return 0.0 * x  # mean function\n",
        "\n",
        "\n",
        "def kernel(f):\n",
        "    return lambda a, b: np.array(\n",
        "        [[np.float64(f(a[i], b[j])) for j in range(b.size)]\n",
        "         for i in range(a.size)]\n",
        "    )"
      ],
      "execution_count": null,
      "outputs": []
    },
    {
      "cell_type": "markdown",
      "metadata": {
        "id": "SmjNKrxMjfA4"
      },
      "source": [
        "Some kernels:"
      ]
    },
    {
      "cell_type": "code",
      "metadata": {
        "id": "phkudS4FjfA4"
      },
      "source": [
        "# square exponential kernel:\n",
        "def SE(a, b, ell):\n",
        "    return 3 ** 2 * np.exp(-((a - b) ** 2) / 2.0 / ell ** 2)\n",
        "\n",
        "\n",
        "k = kernel(lambda a, b: SE(a, b, 0.5))"
      ],
      "execution_count": null,
      "outputs": []
    },
    {
      "cell_type": "code",
      "metadata": {
        "id": "gogbbZL_jfA5"
      },
      "source": [
        "# Wiener process\n",
        "def Wiener(a, b, c):\n",
        "    return np.minimum(a - c, b - c)\n",
        "\n",
        "\n",
        "k = kernel(lambda a, b: Wiener(a, b, -8.1))"
      ],
      "execution_count": null,
      "outputs": []
    },
    {
      "cell_type": "code",
      "metadata": {
        "id": "oxzvHFYojfA5"
      },
      "source": [
        "# Ornstein Uhlenbeck:\n",
        "def OU(a, b, ell):\n",
        "    return 3 ** 2 * np.exp(-np.abs(a - b) / ell ** 2)\n",
        "\n",
        "\n",
        "k = kernel(lambda a, b: OU(a, b, 3))"
      ],
      "execution_count": null,
      "outputs": []
    },
    {
      "cell_type": "code",
      "metadata": {
        "id": "xJLpleCdjfA5"
      },
      "source": [
        "# Cubic splines (integrated Wiener / \"infinitely wide ReLU\")\n",
        "def spline3(a, b, c, o):\n",
        "    return c ** 2 * (\n",
        "        np.minimum(a - o, b - o) ** 3 / 3.0\n",
        "        + 0.5 * np.abs(a - b) * np.minimum(a - o, b - o) ** 2\n",
        "    )\n",
        "\n",
        "\n",
        "k = kernel(lambda a, b: spline3(a, b, 1, -9.0))"
      ],
      "execution_count": null,
      "outputs": []
    },
    {
      "cell_type": "code",
      "metadata": {
        "id": "6c6yBLkhjfA5"
      },
      "source": [
        "# linear\n",
        "def linear(a, b):\n",
        "    return a * b\n",
        "\n",
        "\n",
        "k = kernel(linear)"
      ],
      "execution_count": null,
      "outputs": []
    },
    {
      "cell_type": "code",
      "metadata": {
        "id": "INuyGbPjjfA5"
      },
      "source": [
        "# kernels of maps are kernels\n",
        "def phi(a):\n",
        "    return ((a + 8.1) / 4) ** 2\n",
        "\n",
        "\n",
        "k = kernel(lambda a, b: SE(phi(a), phi(b), 1))"
      ],
      "execution_count": null,
      "outputs": []
    },
    {
      "cell_type": "code",
      "metadata": {
        "id": "ZemV6Il3jfA6"
      },
      "source": [
        "# sums of kernels are kernels\n",
        "k = kernel(lambda a, b: linear(a, b) + SE(a, b, 1))"
      ],
      "execution_count": null,
      "outputs": []
    },
    {
      "cell_type": "code",
      "metadata": {
        "id": "x_lNLJyJjfA6"
      },
      "source": [
        "# product of kernels is a kernel\n",
        "k = kernel(lambda a, b: linear(a, b) * SE(a, b, 1))"
      ],
      "execution_count": null,
      "outputs": []
    }
  ]
}
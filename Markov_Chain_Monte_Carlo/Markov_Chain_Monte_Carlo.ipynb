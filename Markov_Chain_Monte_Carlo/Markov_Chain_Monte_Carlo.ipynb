{
  "nbformat": 4,
  "nbformat_minor": 0,
  "metadata": {
    "colab": {
      "name": "Markov_Chain_Monte_Carlo.ipynb",
      "provenance": [],
      "collapsed_sections": [],
      "authorship_tag": "ABX9TyNrHUxXohpsJR7CYPBVkDXQ",
      "include_colab_link": true
    },
    "kernelspec": {
      "name": "python3",
      "display_name": "Python 3"
    },
    "language_info": {
      "name": "python"
    }
  },
  "cells": [
    {
      "cell_type": "markdown",
      "metadata": {
        "id": "view-in-github",
        "colab_type": "text"
      },
      "source": [
        "<a href=\"https://colab.research.google.com/github/mauricioyc/Probabilistic-Machine-Learning/blob/master/Markov_Chain_Monte_Carlo/Markov_Chain_Monte_Carlo.ipynb\" target=\"_parent\"><img src=\"https://colab.research.google.com/assets/colab-badge.svg\" alt=\"Open In Colab\"/></a>"
      ]
    },
    {
      "cell_type": "markdown",
      "metadata": {
        "id": "fX2vFh0z9yUI"
      },
      "source": [
        "# Problem: \n",
        "Given a probabilistic distribution function $p(x)$, we want to sample from it. Considering that the distribution is not easy to invert the cdf ($P^{-1}(x)$) to use simple sample methods such as rejection sample by transforming a uniform distribution $U(0,1)$.\n",
        "\n"
      ]
    },
    {
      "cell_type": "markdown",
      "metadata": {
        "id": "d-20FJ27Nqcs"
      },
      "source": [
        "\n",
        "# Solution (Naive): Metropolis Hastings Sampling\n",
        "The ideia is to use a known distribution, such as a normal $q(\\tilde{x}) \\text{~} (\\mu,\\sigma)$ and sample $\\tilde{x} \\text{~} q(\\tilde{x}|x_t)$. Then a Markov Chain Monte Carlo is applied.\n",
        "\n",
        "# Simulation\n",
        "* initiate $x_t = x_0 = \\mu$ \n",
        "* draw $\\tilde{x} \\text{~} q(\\tilde{x}|x_t)$\n",
        "* evaluate $a = \\dfrac{\\hat{p}(\\tilde{x})q(x_t|\\tilde{x})}{\\hat{p}(x_t)q(\\tilde{x}|x_t)}$\n",
        "* if $a > 1$:\n",
        "  * update $x_{t+1} = \\tilde{x}$\n",
        "* else:\n",
        "  * with probability p update $x_{t+1} = \\tilde{x}$\n",
        "  * with probability 1- p update $x_{t+1} = x_t$\n",
        "\n",
        "It is importante to consider that the initial samples maybe more innacurate, given that the prior is mode distant than the posterior. For that, it is recommended to ignore the first ocurrences before sampling."
      ]
    },
    {
      "cell_type": "code",
      "metadata": {
        "colab": {
          "base_uri": "https://localhost:8080/",
          "height": 349
        },
        "id": "fplleaW-w3eS",
        "outputId": "c4aee1e3-be0c-48a6-c85e-d0f3547e8f17"
      },
      "source": [
        "import numpy as np\n",
        "from numpy.random import uniform\n",
        "from scipy import stats, integrate\n",
        "import matplotlib.pyplot as plt\n",
        "\n",
        "def MH_MCMC(mean, sigma, target_function, N_ITER, ignore_first):\n",
        "  # defining the q(x)\n",
        "  def qx(x, m, o):\n",
        "    return stats.norm.pdf(x, loc=m, scale=o)\n",
        "\n",
        "  x_t = [] # initialization of samples\n",
        "  xa, points = [], [] # initialization of accepted samples\n",
        "  acceptance = 0 # acceptance rate of algorithm\n",
        "\n",
        "  for i in range(N_ITER):\n",
        "    x_t.append(mean)\n",
        "    x_tilda = stats.norm.rvs(loc = x_t[i], scale = sigma)\n",
        "\n",
        "    px_t = target_function(x_t[i])\n",
        "    px_tilda = target_function(x_tilda)\n",
        "\n",
        "    # not necessary, given that will cancel in the method\n",
        "    qx_t = qx(x_t[i], x_tilda, sigma)\n",
        "    qx_tilda = qx(x_tilda, x_t[i], sigma)\n",
        "\n",
        "    a = (px_tilda*qx_t)/(px_t*qx_tilda)\n",
        "    p = min(a, 1)\n",
        "    u = uniform(0 , 1)\n",
        "\n",
        "    if u < a: \n",
        "      mean = x_tilda\n",
        "      points.append(uniform(0,px_t))   \n",
        "      xa.append(x_t[i])\n",
        "      acceptance = acceptance + 1\n",
        "\n",
        "  acceptance = acceptance/N_ITER\n",
        "  return x_t[int(0.2*N_ITER):], xa, points, acceptance\n",
        "\n",
        "# Main Variables\n",
        "N_ITER = 500 # samples\n",
        "space = np.linspace(-1, 8, N_ITER) # linear space for function definition and plot\n",
        "\n",
        "# defining target function\n",
        "def gauss(x, m, o):\n",
        "  return(1/(np.sqrt(2*np.pi)*o)*np.exp(-0.5*((x-m)/o)**2))\n",
        "\n",
        "def px(x, c=1):\n",
        "  p = gauss(x, 1, 0.4)\n",
        "  p = p + gauss(x, 3.5, 1)\n",
        "  p = p + gauss(x, 6, 0.2)\n",
        "  p = p/c\n",
        "  return p\n",
        "c = integrate.simps(px(space,1), x=space, even='avg') # normalization factor due to the way the px(x) was contructed\n",
        "target_function = lambda x: px(x, c=c) # target function\n",
        "\n",
        "\n",
        "# q(x) variables\n",
        "mean = 3 # starting with qx = gauss(x, 3, 1)\n",
        "sigma = 1 # starting with qx = gauss(x, 3, 1)\n",
        "ignore_first = 0.2 # % of samples to ignore\n",
        "\n",
        "\n",
        "# Metropolis Hastings - Markov Chain Monte Carlo\n",
        "samples, samples_accepted, points, acceptance = MH_MCMC(mean, sigma, target_function, N_ITER, ignore_first)\n",
        "\n",
        "# Plotting Results\n",
        "fig, (ax0, ax1) = plt.subplots(nrows=1, ncols=2, sharex=True, figsize=(12, 6))\n",
        "\n",
        "ax0.set_title('Point distribution of uniform, N: {}, Acceptance: {}'.format(N_ITER, acceptance))\n",
        "ax0.plot(space, target_function(space), c='black');\n",
        "ax0.scatter(samples_accepted, points, c='green', marker='v');\n",
        "\n",
        "ax1.set_title('Histogram of drawn xi, N: {}, Acceptance: {}'.format(N_ITER, acceptance))\n",
        "ax1.plot(space, px(space, c), c='black');\n",
        "ax1.hist(samples, bins=50, density=True);\n"
      ],
      "execution_count": 1,
      "outputs": [
        {
          "output_type": "display_data",
          "data": {
            "image/png": "[encoded data removed]",
            "text/plain": [
              "<Figure size 864x432 with 2 Axes>"
            ]
          },
          "metadata": {
            "tags": [],
            "needs_background": "light"
          }
        }
      ]
    },
    {
      "cell_type": "markdown",
      "metadata": {
        "id": "lktumMQALT01"
      },
      "source": [
        "Demonstrate later:\n",
        "* sigma may increase or decrease the acceptance, but with smaller/higher steps\n",
        "* the mean moves in a given diretion the optimization\n",
        "* expected distance traveled by a random walk (convergence at sqrt of # of samples)"
      ]
    },
    {
      "cell_type": "markdown",
      "metadata": {
        "id": "shjgX9jYNtqo"
      },
      "source": [
        "\n",
        "# Solution (Naive): Gibbs\n",
        "https://github.com/mr-easy/Gibbs-Sampling-Visualized/blob/master/Gibbs_from_2d_normal.ipynb\n",
        "\n",
        "# Con: axes should be aligned to take optimun steps"
      ]
    },
    {
      "cell_type": "code",
      "metadata": {
        "id": "-vWbxrVFR1cx"
      },
      "source": [
        "import numpy as np\n",
        "import matplotlib.pyplot as plt\n",
        "from IPython.display import Image\n",
        "from IPython.core.interactiveshell import InteractiveShell\n",
        "InteractiveShell.ast_node_interactivity = \"all\"\n",
        "from matplotlib.patches import Ellipse\n",
        "import matplotlib.transforms as transforms\n",
        "from random import random\n",
        "\n",
        "try:\n",
        "  import gif\n",
        "except:\n",
        "  !pip install gif\n",
        "  import gif\n",
        "\n",
        "def plot_gaussian_from_points(x, y, ax, n_std=3.0, facecolor='none', **kwargs):\n",
        "    \"\"\"\n",
        "    Create a plot of the covariance confidence ellipse of *x* and *y*.\n",
        "    Parameters\n",
        "    ----------\n",
        "    x, y : array-like, shape (n, )\n",
        "        Input data.\n",
        "    ax : matplotlib.axes.Axes\n",
        "        The axes object to draw the ellipse into.\n",
        "    n_std : float\n",
        "        The number of standard deviations to determine the ellipse's radiuses.\n",
        "    Returns\n",
        "    -------\n",
        "    matplotlib.patches.Ellipse\n",
        "    Other parameters\n",
        "    ----------------\n",
        "    kwargs : `~matplotlib.patches.Patch` properties\n",
        "    \"\"\"\n",
        "    if len(x) != len(y):\n",
        "        raise ValueError(\"x and y must be the same size\")\n",
        "    if len(x) < 2:\n",
        "        raise ValueError(\"Need more data.\")\n",
        "    cov = np.cov(x, y)\n",
        "    pearson = cov[0, 1]/np.sqrt(cov[0, 0] * cov[1, 1])\n",
        "    # Using a special case to obtain the eigenvalues of this\n",
        "    # two-dimensionl dataset.\n",
        "    ell_radius_x = np.sqrt(1 + pearson)\n",
        "    ell_radius_y = np.sqrt(1 - pearson)\n",
        "    ellipse = Ellipse((0, 0),\n",
        "        width=ell_radius_x * 2,\n",
        "        height=ell_radius_y * 2,\n",
        "        facecolor=facecolor,\n",
        "        **kwargs)\n",
        "\n",
        "    # Calculating the stdandard deviation of x from\n",
        "    # the squareroot of the variance and multiplying\n",
        "    # with the given number of standard deviations.\n",
        "    scale_x = np.sqrt(cov[0, 0]) * n_std\n",
        "    mean_x = np.mean(x)\n",
        "\n",
        "    # calculating the stdandard deviation of y ...\n",
        "    scale_y = np.sqrt(cov[1, 1]) * n_std\n",
        "    mean_y = np.mean(y)\n",
        "\n",
        "    transf = transforms.Affine2D() \\\n",
        "        .rotate_deg(45) \\\n",
        "        .scale(scale_x, scale_y) \\\n",
        "        .translate(mean_x, mean_y)\n",
        "\n",
        "    ellipse.set_transform(transf + ax.transData)\n",
        "    return ax.add_patch(ellipse)\n",
        "\n",
        "def plot_gaussian_from_parameters(mean, cov, ax, n_std=3.0, facecolor='none', **kwargs):\n",
        "    \"\"\"\n",
        "    Create a plot of the covariance confidence ellipse of *x* and *y*.\n",
        "    Parameters\n",
        "    ----------\n",
        "\tmean : array-like, shape (2, )\n",
        "    \tMean vector\n",
        "    cov : array-like, shape (2,2)\n",
        "    \tCovariance matrix\n",
        "    ax : matplotlib.axes.Axes\n",
        "        The axes object to draw the ellipse into.\n",
        "    n_std : float\n",
        "        The number of standard deviations to determine the ellipse's radiuses.\n",
        "    Returns\n",
        "    -------\n",
        "    matplotlib.patches.Ellipse\n",
        "    Other parameters\n",
        "    ----------------\n",
        "    kwargs : `~matplotlib.patches.Patch` properties\n",
        "    \"\"\"\n",
        "    if len(mean) != 2:\n",
        "        raise ValueError(\"Mean vector length should be 2.\")\n",
        "    if (cov.shape != (2, 2)):\n",
        "    \traise ValueError(\"Covariance should be a 2x2 matrix.\")\n",
        "    #checking if cov is symmetric pos semidefinite\n",
        "    if(cov[0, 1] != cov[1, 0]):\n",
        "        raise ValueError(\"Covariance should be symmetric.\")\n",
        "    if(cov[0, 0] < 0 or cov[0, 0]*cov[1,1] - cov[0,1]**2 < 0):\n",
        "        raise ValueError(\"Covariance should be positive semidefinite.\")\n",
        "\n",
        "    pearson = cov[0, 1]/np.sqrt(cov[0, 0] * cov[1, 1])\n",
        "    # Using a special case to obtain the eigenvalues of this\n",
        "    # two-dimensionl dataset.\n",
        "    ell_radius_x = np.sqrt(1 + pearson)\n",
        "    ell_radius_y = np.sqrt(1 - pearson)\n",
        "    ellipse = Ellipse((0, 0),\n",
        "        width=ell_radius_x * 2,\n",
        "        height=ell_radius_y * 2,\n",
        "        facecolor=facecolor,\n",
        "        **kwargs)\n",
        "\n",
        "    # Calculating the stdandard deviation of x from\n",
        "    # the squareroot of the variance and multiplying\n",
        "    # with the given number of standard deviations.\n",
        "    scale_x = np.sqrt(cov[0, 0]) * n_std\n",
        "    mean_x = mean[0]\n",
        "\n",
        "    # calculating the stdandard deviation of y ...\n",
        "    scale_y = np.sqrt(cov[1, 1]) * n_std\n",
        "    mean_y = mean[1]\n",
        "\n",
        "    transf = transforms.Affine2D() \\\n",
        "        .rotate_deg(45) \\\n",
        "        .scale(scale_x, scale_y) \\\n",
        "        .translate(mean_x, mean_y)\n",
        "\n",
        "    ellipse.set_transform(transf + ax.transData)\n",
        "    return ax.add_patch(ellipse)"
      ],
      "execution_count": 74,
      "outputs": []
    },
    {
      "cell_type": "code",
      "metadata": {
        "id": "WDs60hqQGkPu"
      },
      "source": [
        "def conditional_sampler(sampling_index, current_x, mean, cov):\n",
        "    conditioned_index = 1 - sampling_index\n",
        "    a = cov[sampling_index, sampling_index]\n",
        "    b = cov[sampling_index, conditioned_index]\n",
        "    c = cov[conditioned_index, conditioned_index]\n",
        "    \n",
        "    mu = mean[sampling_index] + (b * (current_x[conditioned_index] - mean[conditioned_index]))/c\n",
        "    sigma = np.sqrt(a-(b**2)/c)\n",
        "    new_x = np.copy(current_x)\n",
        "    new_x[sampling_index] = np.random.randn()*sigma + mu\n",
        "    return new_x"
      ],
      "execution_count": 3,
      "outputs": []
    },
    {
      "cell_type": "code",
      "metadata": {
        "id": "m6s_3MTyRw7h"
      },
      "source": [
        "@gif.frame\n",
        "def plot_samples(samples, num_samples, tmp_points, num_tmp, title=\"Gibbs Sampling\", xlims=(-11, 11), ylims=(-11, 11)):\n",
        "    fig = plt.figure(figsize=(10, 8))\n",
        "    ax = fig.gca()\n",
        "    \n",
        "    # Plot the true distribution\n",
        "    plot_gaussian_from_parameters(mean, cov, ax, n_std=2, edgecolor='g', alpha=0.5, label=\"True Distribution\")\n",
        "    \n",
        "    # Plot sampled points\n",
        "    ax.scatter(samples[:num_samples, 0], samples[:num_samples, 1], c='b', s=10, label=\"Sampled Points\")\n",
        "    ax.scatter(samples[0, 0], samples[0, 1], marker='*', c='g', s=60, label=\"Initial Point\")\n",
        "    \n",
        "    # Plot samples from conditional distribution\n",
        "    ax.scatter(tmp_points[:num_tmp, 0], tmp_points[:num_tmp, 1], c='r', alpha=0.4, s=5, label=\"Temporary Points\")\n",
        "    \n",
        "    # Keeping the axes scales same for good GIFS\n",
        "    ax.set_xlim(xlims)\n",
        "    ax.set_ylim(ylims)\n",
        "    \n",
        "    # Plot lines\n",
        "    if(num_tmp > 0):\n",
        "        ax.plot([samples[num_samples-1, 0], tmp_points[num_tmp-1, 0]], \n",
        "                [samples[num_samples-1, 1], tmp_points[num_tmp-1, 1]], c='k', alpha=0.25)\n",
        "        # Plot estimated Gaussian, ignoring the starting point\n",
        "        if(num_samples > 2):\n",
        "            plot_gaussian_from_points(samples[1:num_samples, 0], samples[1:num_samples, 1], \n",
        "                                      ax, n_std=2, edgecolor='b', alpha=0.5, label=\"Estimated Distribution\")\n",
        "    \n",
        "    ax.legend(loc='upper left')\n",
        "    ax.set_title(title)"
      ],
      "execution_count": 4,
      "outputs": []
    },
    {
      "cell_type": "code",
      "metadata": {
        "id": "27JUr3KARxac"
      },
      "source": [
        "def gibbs_sampler(initial_point, num_samples, mean, cov, create_gif=True):\n",
        "\n",
        "    frames = []  # for GIF\n",
        "    point = np.array(initial_point)\n",
        "    samples = np.empty([num_samples+1, 2])  #sampled points\n",
        "    samples[0] = point\n",
        "    tmp_points = np.empty([num_samples, 2]) #inbetween points\n",
        "\n",
        "    for i in range(num_samples):\n",
        "\n",
        "        # Sample from p(x_0|x_1)\n",
        "        point = conditional_sampler(0, point, mean, cov)\n",
        "        tmp_points[i] = point\n",
        "        if(create_gif):\n",
        "            frames.append(plot_samples(samples, i+1, tmp_points, i+1, title=\"Num Samples: \" + str(i)))\n",
        "            \n",
        "        # Sample from p(x_1|x_0)\n",
        "        point = conditional_sampler(1, point, mean, cov)\n",
        "        samples[i+1] = point\n",
        "        if(create_gif):\n",
        "            frames.append(plot_samples(samples, i+2, tmp_points, i+1, title=\"Num Samples: \" + str(i+1)))\n",
        "            \n",
        "    if(create_gif):\n",
        "        return samples, tmp_points, frames\n",
        "    else:\n",
        "        return samples, tmp_points"
      ],
      "execution_count": 5,
      "outputs": []
    },
    {
      "cell_type": "code",
      "metadata": {
        "colab": {
          "base_uri": "https://localhost:8080/",
          "height": 483
        },
        "id": "04IFdbDhSGdJ",
        "outputId": "fe7bd7e3-0e3c-40ba-ee55-810e8b8e440d"
      },
      "source": [
        "mean = np.array([0, 0])\n",
        "cov = np.array([[10, 3], \n",
        "                [3, 5]])\n",
        "\n",
        "\n",
        "# Plot true distribution\n",
        "fig = plt.figure(figsize=(10, 8))\n",
        "ax = fig.gca()\n",
        "plot_gaussian_from_parameters(mean, cov, ax, n_std=2, edgecolor='g', label=\"True Distribution\")\n",
        "ax.scatter(mean[0], mean[1], c='g')\n",
        "ax.set_xlim((-11, 11))\n",
        "ax.set_ylim((-11, 11))\n",
        "ax.legend(loc='upper left')\n",
        "plt.show()"
      ],
      "execution_count": 37,
      "outputs": [
        {
          "output_type": "display_data",
          "data": {
            "image/png": "[encoded data removed]",
            "text/plain": [
              "<Figure size 720x576 with 1 Axes>"
            ]
          },
          "metadata": {
            "tags": [],
            "needs_background": "light"
          }
        }
      ]
    },
    {
      "cell_type": "code",
      "metadata": {
        "id": "aOlT0KoWc7aI"
      },
      "source": [
        "initial_point = [-9.0, -9.0]\n",
        "num_samples = 500\n",
        "samples, tmp_points, frames = gibbs_sampler(initial_point, num_samples, mean, cov, create_gif=True)"
      ],
      "execution_count": 38,
      "outputs": []
    },
    {
      "cell_type": "code",
      "metadata": {
        "id": "AmlGpx5HjBJI"
      },
      "source": [
        "# Creating the GIF\n",
        "gif.save(frames, \"gibbs.gif\", duration=150)"
      ],
      "execution_count": null,
      "outputs": []
    },
    {
      "cell_type": "code",
      "metadata": {
        "id": "5HueKUvCSxbM"
      },
      "source": [
        "%matplotlib inline\n",
        "\n",
        "with open('gibbs.gif','rb') as f:\n",
        "    Image(data=f.read(), format='png')"
      ],
      "execution_count": 83,
      "outputs": []
    },
    {
      "cell_type": "markdown",
      "metadata": {
        "id": "1-7KhgEyWuXd"
      },
      "source": [
        "# Solution: Hamiltonian\n",
        "\n",
        "https://towardsdatascience.com/python-hamiltonian-monte-carlo-from-scratch-955dba96a42d"
      ]
    },
    {
      "cell_type": "code",
      "metadata": {
        "colab": {
          "base_uri": "https://localhost:8080/",
          "height": 265
        },
        "id": "Wd9qJcv7gnaL",
        "outputId": "8f8e8b49-f19e-47ca-e872-d07d31a48314"
      },
      "source": [
        "import numpy as np\n",
        "import random\n",
        "import scipy.stats as st\n",
        "import matplotlib.pyplot as plt\n",
        "\n",
        "def normal(x,mu,sigma):\n",
        "    numerator = np.exp(-1*((x-mu)**2)/(2*sigma**2))\n",
        "    denominator = sigma * np.sqrt(2*np.pi)\n",
        "    return numerator/denominator\n",
        "\n",
        "def neg_log_prob(x,mu,sigma):\n",
        "    return -1*np.log(normal(x=x,mu=mu,sigma=sigma))\n",
        "\n",
        "def HMC(mu=0.0,sigma=1.0,path_len=1,step_size=0.25,initial_position=0.0,epochs=1_000):\n",
        "    # setup\n",
        "    steps = int(path_len/step_size) # path_len and step_size are tricky parameters to tune...\n",
        "    samples = [initial_position]\n",
        "    momentum_dist = st.norm(0, 1) \n",
        "    # generate samples\n",
        "    for e in range(epochs):\n",
        "        q0 = np.copy(samples[-1])\n",
        "        q1 = np.copy(q0)\n",
        "        p0 = momentum_dist.rvs()        \n",
        "        p1 = np.copy(p0) \n",
        "        dVdQ = -1*(q0-mu)/(sigma**2) # gradient of PDF wrt position (q0) aka potential energy wrt position\n",
        "\n",
        "        # leapfrog integration begin\n",
        "        for s in range(steps): \n",
        "            p1 += step_size*dVdQ/2 # as potential energy increases, kinetic energy decreases, half-step\n",
        "            q1 += step_size*p1 # position increases as function of momentum \n",
        "            p1 += step_size*dVdQ/2 # second half-step \"leapfrog\" update to momentum    \n",
        "        # leapfrog integration end        \n",
        "        p1 = -1*p1 #flip momentum for reversibility     \n",
        "\n",
        "        \n",
        "        #metropolis acceptance\n",
        "        q0_nlp = neg_log_prob(x=q0,mu=mu,sigma=sigma)\n",
        "        q1_nlp = neg_log_prob(x=q1,mu=mu,sigma=sigma)        \n",
        "\n",
        "        p0_nlp = neg_log_prob(x=p0,mu=0,sigma=1)\n",
        "        p1_nlp = neg_log_prob(x=p1,mu=0,sigma=1)\n",
        "        \n",
        "        # Account for negatives AND log(probabiltiies)...\n",
        "        target = q0_nlp - q1_nlp # P(q1)/P(q0)\n",
        "        adjustment = p1_nlp - p0_nlp # P(p1)/P(p0)\n",
        "        acceptance = target + adjustment \n",
        "        \n",
        "        event = np.log(random.uniform(0,1))\n",
        "        if event <= acceptance:\n",
        "            samples.append(q1)\n",
        "        else:\n",
        "            samples.append(q0)\n",
        "    \n",
        "    return samples\n",
        "        \n",
        "import matplotlib.pyplot as plt\n",
        "mu = 0\n",
        "sigma = 1\n",
        "trial = HMC(mu=mu,sigma=sigma,path_len=1.5,step_size=0.25)\n",
        "\n",
        "lines = np.linspace(-6,6,10_000)\n",
        "normal_curve = [normal(x=l,mu=mu,sigma=sigma) for l in lines]\n",
        "\n",
        "plt.plot(lines,normal_curve);\n",
        "plt.hist(trial,density=True,bins=20);\n",
        "plt.show();"
      ],
      "execution_count": 79,
      "outputs": [
        {
          "output_type": "display_data",
          "data": {
            "image/png": "[encoded data removed]",
            "text/plain": [
              "<Figure size 432x288 with 1 Axes>"
            ]
          },
          "metadata": {
            "tags": [],
            "needs_background": "light"
          }
        }
      ]
    },
    {
      "cell_type": "code",
      "metadata": {
        "id": "UESw3GsAiMUZ"
      },
      "source": [
        ""
      ],
      "execution_count": null,
      "outputs": []
    }
  ]
}